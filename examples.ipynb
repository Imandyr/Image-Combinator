{
  "nbformat": 4,
  "nbformat_minor": 0,
  "metadata": {
    "colab": {
      "provenance": []
    },
    "kernelspec": {
      "name": "python3",
      "display_name": "Python 3"
    },
    "language_info": {
      "name": "python"
    }
  },
  "cells": [
    {
      "cell_type": "code",
      "execution_count": null,
      "metadata": {
        "id": "d88GNOcmoheM"
      },
      "outputs": [],
      "source": [
        "from pathlib import Path\n",
        "from natsort import natsorted\n",
        "\n",
        "from defs import ImagesCombinatorPlt\n",
        "\n",
        "source_path = Path(\"source_images\") / \"1\"\n",
        "output_path = Path(\"output\") / \"1\""
      ]
    },
    {
      "cell_type": "code",
      "source": [
        "# create new object using images from source\n",
        "combinator = ImagesCombinatorPlt(source_path, lower_batch_index=0, upper_batch_index=7, sort=natsorted,\n",
        "                                 batch_shape=(4, 5), logs=True)"
      ],
      "metadata": {
        "id": "ZKTF5e2Io-GR"
      },
      "execution_count": null,
      "outputs": []
    },
    {
      "cell_type": "code",
      "source": [
        "# print its representation\n",
        "print(combinator)"
      ],
      "metadata": {
        "id": "Bv6GmP-fo-Bt"
      },
      "execution_count": null,
      "outputs": []
    },
    {
      "cell_type": "code",
      "source": [
        "# get one processed image\n",
        "print(combinator[4])"
      ],
      "metadata": {
        "id": "iySKfIEko9-A"
      },
      "execution_count": null,
      "outputs": []
    },
    {
      "cell_type": "code",
      "source": [
        "# take slice\n",
        "print(combinator[2:5])"
      ],
      "metadata": {
        "id": "KSGe3wN4o94s"
      },
      "execution_count": null,
      "outputs": []
    },
    {
      "cell_type": "code",
      "source": [
        "# iterate processed images\n",
        "print([e for e in combinator])"
      ],
      "metadata": {
        "id": "oddeW0_jo9zL"
      },
      "execution_count": null,
      "outputs": []
    },
    {
      "cell_type": "code",
      "source": [
        "# process and save all images\n",
        "combinator.process_and_save_all(output_path, \".jpg\")"
      ],
      "metadata": {
        "id": "Jrl5dBHmo9vU"
      },
      "execution_count": null,
      "outputs": []
    },
    {
      "cell_type": "code",
      "source": [
        "# save processed images to gif file using ffmpeg\n",
        "combinator.process_and_save_to_gif_ffmpeg(output_path, rewrite=True, frame_rate=1, delete_images_on_end=True)"
      ],
      "metadata": {
        "id": "YxkngCaVo9rA"
      },
      "execution_count": null,
      "outputs": []
    },
    {
      "cell_type": "code",
      "source": [
        "# save processed images to gif file using pillow\n",
        "combinator.process_and_save_to_gif_pillow(output_path / \"output_2.gif\", frame_rate=1, rewrite=True)"
      ],
      "metadata": {
        "id": "MXNF_0-Ro9hf"
      },
      "execution_count": null,
      "outputs": []
    },
    {
      "cell_type": "code",
      "source": [
        "# read processed images as spectrogram and save created audio in wav file\n",
        "combinator.process_and_save_to_wav(output_path / \"output.wav\", rewrite=True, duration=1)"
      ],
      "metadata": {
        "id": "PXpWwM98o9VY"
      },
      "execution_count": null,
      "outputs": []
    }
  ]
}